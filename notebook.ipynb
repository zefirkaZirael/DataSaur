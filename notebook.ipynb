{
 "cells": [
  {
   "cell_type": "markdown",
   "id": "fb123e73",
   "metadata": {
    "lines_to_next_cell": 2
   },
   "source": [
    "Инструкции:\n",
    "1) Создать телеграм бота через BotFather\n",
    "2) Получить у него Токен и вставить его в код вместо YOUR_BOT_TOKEN\n",
    "3) Установить все необходимые библиотеки с файла \"requirements.txt\"\n",
    "4) Данный код работает с браузером MicrosoftEdge если его нет на компьютере\n",
    "надо установить (Можно поменять при желании в строчке browser = webdriver.Edge())\n",
    "5) Запустить код\n",
    "4) Начать чат с ботом (бот будет сразу обрабатывать сообщение /start и искать ответ)\n",
    "6) После сообщения \"По вашему запросу ничего не найдено\"\n",
    "можно задавать вопрос из списка тестовых указаных VK Cloud Case. Время обработки примерно 6 секунд"
   ]
  },
  {
   "cell_type": "code",
   "execution_count": null,
   "id": "0d76946b",
   "metadata": {},
   "outputs": [],
   "source": [
    "import time  # Import the 'time' module for time-related operations.\n",
    "from selenium.webdriver import Keys  # Import 'Keys' from 'selenium.webdriver' to use keyboard keys.\n",
    "import logging  # Import the 'logging' module for logging purposes.\n",
    "from aiogram import Bot, Dispatcher, types, executor  # Import modules from aiogram for creating a Telegram bot.\n",
    "import requests  # Import 'requests' for making HTTP requests.\n",
    "from bs4 import BeautifulSoup  # Import 'BeautifulSoup' for parsing HTML content.\n",
    "from selenium import webdriver  # Import 'webdriver' for web scraping with Selenium.\n",
    "from selenium.webdriver.common.by import By  # Import 'By' from 'selenium.webdriver.common.by' for locating elements."
   ]
  },
  {
   "cell_type": "code",
   "execution_count": null,
   "id": "cf88b965",
   "metadata": {},
   "outputs": [],
   "source": [
    "logging.basicConfig(level=logging.INFO)  # Configure logging with INFO level."
   ]
  },
  {
   "cell_type": "code",
   "execution_count": null,
   "id": "39d8bf2f",
   "metadata": {
    "lines_to_next_cell": 1
   },
   "outputs": [],
   "source": [
    "bot = Bot(token='YOUR_BOT_TOKEN')  # Initialize the Telegram bot using your bot token.\n",
    "dp = Dispatcher(bot)  # Create a dispatcher for handling messages.\n",
    "browser = webdriver.Edge()  # Initialize the Edge webdriver for web scraping."
   ]
  },
  {
   "cell_type": "code",
   "execution_count": null,
   "id": "49b6a28e",
   "metadata": {
    "lines_to_next_cell": 1
   },
   "outputs": [],
   "source": [
    "def fetch_docs_data(question):\n",
    "    browser.get(\"https://mcs.mail.ru/docs\")  # Open the Mail.ru documentation page in the browser.\n",
    "\n",
    "    try:\n",
    "        user_input1 = browser.find_element(By.CSS_SELECTOR, \"button[type='button']\")  # Find and click a button to search line if it is hiden.\n",
    "        user_input1.click()\n",
    "    except Exception as e:\n",
    "        pass\n",
    "\n",
    "    user_input = browser.find_element(By.CSS_SELECTOR, \"input[name='query']\")  # Find the search input element.\n",
    "    user_input.send_keys(question)  # Enter the user's question into the search input.\n",
    "    user_input.send_keys(Keys.RETURN)  # Press the Enter key to initiate the search.\n",
    "\n",
    "    try:\n",
    "        time.sleep(3)  # Wait for a few seconds.\n",
    "        first_link = browser.find_element(By.CSS_SELECTOR, \"a.PagedList_itemLink__8GurP\")  # Find the first search result link.\n",
    "        first_link.click()  # Click on the first search result link.\n",
    "        time.sleep(3)  # Wait for a few seconds.\n",
    "        data = browser.current_url  # Get the current URL of the browser.\n",
    "\n",
    "        result3 = ''  # Initialize a variable to store the extracted text content.\n",
    "\n",
    "        response = requests.get(data)  # Send an HTTP GET request to the current URL.\n",
    "        result = BeautifulSoup(response.text, 'html.parser')  # Parse the response using BeautifulSoup.\n",
    "\n",
    "        for element in result.select(\"div\", class_='MarkdownContainer_reactMarkdown__C5bXL'):\n",
    "            result2 = element.select('p')  # Find paragraphs within a specific div.\n",
    "            for p in result2:\n",
    "                result3 = result3 + p.get_text()  # Extract and concatenate text from paragraphs.\n",
    "                print(p.get_text())  # Print the text content.\n",
    "                result3 = result3 + '\\n'  # Add a newline between paragraphs.\n",
    "            break       #to not make output message too long\n",
    "        return result3 + data  # Return the extracted text content and the current URL.\n",
    "\n",
    "    except Exception as e:\n",
    "        return \"По вашему запросу ничего не найдено\"  # Return a message for an unsuccessful search."
   ]
  },
  {
   "cell_type": "code",
   "execution_count": null,
   "id": "54ef7d63",
   "metadata": {},
   "outputs": [],
   "source": [
    "@dp.message_handler()\n",
    "async def echo(message: types.Message):\n",
    "    user_message = message.text  # Get the user's message.\n",
    "    documentation_data = fetch_docs_data(user_message)  # Call the function to fetch documentation data.\n",
    "    if documentation_data:\n",
    "        await message.answer(documentation_data)  # Send the extracted data as a response.\n",
    "    else:\n",
    "        await message.answer(\"Повторите попытку позже\")  # Send a message if the search was unsuccessful."
   ]
  },
  {
   "cell_type": "code",
   "execution_count": null,
   "id": "6a59652b",
   "metadata": {},
   "outputs": [],
   "source": [
    "if __name__ == \"__main__\":\n",
    "    executor.start_polling(dp, skip_updates=True)  # Start the bot to listen for messages and execute handlers."
   ]
  }
 ],
 "metadata": {
  "jupytext": {
   "cell_metadata_filter": "-all",
   "main_language": "python",
   "notebook_metadata_filter": "-all"
  }
 },
 "nbformat": 4,
 "nbformat_minor": 5
}
